{
 "cells": [
  {
   "cell_type": "code",
   "execution_count": 6,
   "metadata": {},
   "outputs": [
    {
     "name": "stdout",
     "output_type": "stream",
     "text": [
      "(1619, 172800) (1619, 1) (460, 172800) (460, 1)\n"
     ]
    }
   ],
   "source": [
    "from __future__ import absolute_import, division, print_function, unicode_literals, unicode_literals\n",
    "\n",
    "import numpy as np\n",
    "import matplotlib.pyplot as plt\n",
    "import pickle\n",
    "import tensorflow as tf #tensorflow==1.13.1\n",
    "np.random.seed(1337)\n",
    "\n",
    "'''this code is from https://www.guru99.com/artificial-neural-network-tutorial.html'''\n",
    "with open(\"./pickled_mnist.pkl\", \"br\") as fh:\n",
    "    data = pickle.load(fh)\n",
    "\n",
    "X_train = data[0].astype(np.int) #train_images\n",
    "X_test = data[1].astype(np.int) #test_images\n",
    "y_train = data[2].astype(np.int) #train_labels\n",
    "y_test = data[3].astype(np.int) #test_labels\n",
    "batch_size =len(X_train)\n",
    "\n",
    "class_names = ['small', 'medium', 'large']\n",
    "\n",
    "'''\n",
    "print(train_images.shape) #(1619, 172800)\n",
    "print(test_images.shape) #(460, 172800)\n",
    "print(train_labels.shape) #(1619, 3)\n",
    "print(test_labels.shape) #(460, 3)\n",
    "'''\n",
    "train_images=X_train.reshape(1619, 240, 240, 3)\n",
    "test_images=X_test.reshape(460, 240, 240, 3)\n",
    "print(X_train.shape, y_train.shape, X_test.shape, y_test.shape)"
   ]
  },
  {
   "cell_type": "code",
   "execution_count": 7,
   "metadata": {},
   "outputs": [
    {
     "name": "stdout",
     "output_type": "stream",
     "text": [
      "INFO:tensorflow:Using default config.\n",
      "INFO:tensorflow:Using config: {'_model_dir': './train/DNN', '_tf_random_seed': None, '_save_summary_steps': 100, '_save_checkpoints_steps': None, '_save_checkpoints_secs': 600, '_session_config': allow_soft_placement: true\n",
      "graph_options {\n",
      "  rewrite_options {\n",
      "    meta_optimizer_iterations: ONE\n",
      "  }\n",
      "}\n",
      ", '_keep_checkpoint_max': 5, '_keep_checkpoint_every_n_hours': 10000, '_log_step_count_steps': 100, '_train_distribute': None, '_device_fn': None, '_protocol': None, '_eval_distribute': None, '_experimental_distribute': None, '_service': None, '_cluster_spec': <tensorflow.python.training.server_lib.ClusterSpec object at 0x0000018F533722E8>, '_task_type': 'worker', '_task_id': 0, '_global_id_in_cluster': 0, '_master': '', '_evaluation_master': '', '_is_chief': True, '_num_ps_replicas': 0, '_num_worker_replicas': 1}\n",
      "INFO:tensorflow:Calling model_fn.\n",
      "INFO:tensorflow:Done calling model_fn.\n",
      "INFO:tensorflow:Create CheckpointSaverHook.\n",
      "INFO:tensorflow:Graph was finalized.\n",
      "INFO:tensorflow:Running local_init_op.\n",
      "INFO:tensorflow:Done running local_init_op.\n",
      "WARNING:tensorflow:From c:\\users\\cse124\\appdata\\local\\programs\\python\\python36\\lib\\site-packages\\tensorflow\\python\\training\\monitored_session.py:809: start_queue_runners (from tensorflow.python.training.queue_runner_impl) is deprecated and will be removed in a future version.\n",
      "Instructions for updating:\n",
      "To construct input pipelines, use the `tf.data` module.\n",
      "INFO:tensorflow:Saving checkpoints for 0 into ./train/DNN\\model.ckpt.\n",
      "INFO:tensorflow:loss = 56.702965, step = 1\n",
      "INFO:tensorflow:global_step/sec: 3.10384\n",
      "INFO:tensorflow:loss = 0.07885195, step = 101 (31.589 sec)\n",
      "INFO:tensorflow:global_step/sec: 3.43302\n",
      "INFO:tensorflow:loss = 41.20623, step = 201 (29.070 sec)\n",
      "INFO:tensorflow:global_step/sec: 3.43159\n",
      "INFO:tensorflow:loss = 4.2490945, step = 301 (28.875 sec)\n",
      "INFO:tensorflow:global_step/sec: 3.4412\n",
      "INFO:tensorflow:loss = 25.330904, step = 401 (29.060 sec)\n",
      "INFO:tensorflow:global_step/sec: 3.41986\n",
      "INFO:tensorflow:loss = 0.051043727, step = 501 (29.241 sec)\n",
      "INFO:tensorflow:global_step/sec: 3.41375\n",
      "INFO:tensorflow:loss = 0.5086422, step = 601 (29.309 sec)\n",
      "INFO:tensorflow:global_step/sec: 3.40305\n",
      "INFO:tensorflow:loss = 0.012800574, step = 701 (29.526 sec)\n",
      "INFO:tensorflow:global_step/sec: 3.38096\n",
      "INFO:tensorflow:loss = 0.11814411, step = 801 (29.421 sec)\n",
      "INFO:tensorflow:global_step/sec: 3.40072\n",
      "INFO:tensorflow:loss = 0.12861441, step = 901 (29.406 sec)\n",
      "INFO:tensorflow:Saving checkpoints for 1000 into ./train/DNN\\model.ckpt.\n",
      "INFO:tensorflow:Loss for final step: 0.0661828.\n",
      "INFO:tensorflow:Calling model_fn.\n",
      "INFO:tensorflow:Done calling model_fn.\n",
      "INFO:tensorflow:Starting evaluation at 2020-03-16T04:33:29Z\n",
      "INFO:tensorflow:Graph was finalized.\n",
      "WARNING:tensorflow:From c:\\users\\cse124\\appdata\\local\\programs\\python\\python36\\lib\\site-packages\\tensorflow\\python\\training\\saver.py:1266: checkpoint_exists (from tensorflow.python.training.checkpoint_management) is deprecated and will be removed in a future version.\n",
      "Instructions for updating:\n",
      "Use standard file APIs to check for files with this prefix.\n",
      "INFO:tensorflow:Restoring parameters from ./train/DNN\\model.ckpt-1000\n",
      "INFO:tensorflow:Running local_init_op.\n",
      "INFO:tensorflow:Done running local_init_op.\n",
      "INFO:tensorflow:Finished evaluation at 2020-03-16-04:33:32\n",
      "INFO:tensorflow:Saving dict for global step 1000: accuracy = 0.8108696, average_loss = 0.67764705, global_step = 1000, loss = 311.71765\n",
      "INFO:tensorflow:Saving 'checkpoint_path' summary for global step 1000: ./train/DNN\\model.ckpt-1000\n"
     ]
    },
    {
     "data": {
      "text/plain": [
       "{'accuracy': 0.8108696,\n",
       " 'average_loss': 0.67764705,\n",
       " 'loss': 311.71765,\n",
       " 'global_step': 1000}"
      ]
     },
     "execution_count": 7,
     "metadata": {},
     "output_type": "execute_result"
    }
   ],
   "source": [
    "## resclae\n",
    "from sklearn.preprocessing import MinMaxScaler #scikit-learn 0.22.2\n",
    "scaler = MinMaxScaler()\n",
    "# Train\n",
    "X_train_scaled = scaler.fit_transform(X_train.astype(np.int))\n",
    "# test\n",
    "X_test_scaled = scaler.fit_transform(X_test.astype(np.int))\n",
    "feature_columns = [tf.feature_column.numeric_column('x', shape=X_train_scaled.shape[1:])]\n",
    "\n",
    "\n",
    "\n",
    "estimator = tf.estimator.DNNClassifier(\n",
    "    feature_columns=feature_columns,\n",
    "    hidden_units=[300, 100], \n",
    "    n_classes=3, \n",
    "    model_dir = './train/DNN')\n",
    "    \n",
    "# Train the estimator\n",
    "train_input = tf.estimator.inputs.numpy_input_fn(\n",
    "    x={\"x\": X_train_scaled},\n",
    "    y=y_train,\n",
    "    batch_size=50,\n",
    "    shuffle=False,\n",
    "    num_epochs=None)\n",
    "estimator.train(input_fn = train_input,steps=1000) \n",
    "eval_input = tf.estimator.inputs.numpy_input_fn(\n",
    "    x={\"x\": X_test_scaled},\n",
    "    y=y_test, \n",
    "    shuffle=False,\n",
    "    batch_size=X_test_scaled.shape[0],\n",
    "    num_epochs=1)\n",
    "estimator.evaluate(eval_input,steps=None) \n"
   ]
  },
  {
   "cell_type": "code",
   "execution_count": null,
   "metadata": {},
   "outputs": [],
   "source": [
    "#improve the model\n",
    "estimator_imp = tf.estimator.DNNClassifier(\n",
    "    feature_columns=feature_columns,\n",
    "    hidden_units=[300, 100],\n",
    "    dropout=0.3, \n",
    "    n_classes = 10,\n",
    "    optimizer=tf.train.ProximalAdagradOptimizer(\n",
    "      learning_rate=0.01,\n",
    "      l1_regularization_strength=0.01, \n",
    "      l2_regularization_strength=0.01\n",
    "    ),\n",
    "    model_dir = '/train/DNN1')\n",
    "estimator_imp.train(input_fn = train_input,steps=1000) \n",
    "estimator_imp.evaluate(eval_input,steps=None) "
   ]
  }
 ],
 "metadata": {
  "kernelspec": {
   "display_name": "Python 3",
   "language": "python",
   "name": "python3"
  },
  "language_info": {
   "codemirror_mode": {
    "name": "ipython",
    "version": 3
   },
   "file_extension": ".py",
   "mimetype": "text/x-python",
   "name": "python",
   "nbconvert_exporter": "python",
   "pygments_lexer": "ipython3",
   "version": "3.6.6"
  }
 },
 "nbformat": 4,
 "nbformat_minor": 4
}
