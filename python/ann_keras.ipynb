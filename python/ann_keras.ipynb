{
 "cells": [
  {
   "cell_type": "code",
   "execution_count": null,
   "metadata": {},
   "outputs": [
    {
     "name": "stdout",
     "output_type": "stream",
     "text": [
      "Model: \"sequential_4\"\n",
      "_________________________________________________________________\n",
      "Layer (type)                 Output Shape              Param #   \n",
      "=================================================================\n",
      "flatten_4 (Flatten)          (None, 172800)            0         \n",
      "_________________________________________________________________\n",
      "dense_8 (Dense)              (None, 1619)              279764819 \n",
      "_________________________________________________________________\n",
      "dense_9 (Dense)              (None, 10)                16200     \n",
      "=================================================================\n",
      "Total params: 279,781,019\n",
      "Trainable params: 279,781,019\n",
      "Non-trainable params: 0\n",
      "_________________________________________________________________\n",
      "None\n",
      "Train on 1619 samples\n",
      "Epoch 1/5\n"
     ]
    }
   ],
   "source": [
    "from __future__ import absolute_import, division, print_function, unicode_literals, unicode_literals\n",
    "\n",
    "# tensorflow와 tf.keras를 임포트합니다\n",
    "import tensorflow as tf\n",
    "from tensorflow import keras\n",
    "\n",
    "# 헬퍼(helper) 라이브러리를 임포트합니다\n",
    "import numpy as np\n",
    "import matplotlib.pyplot as plt\n",
    "import pickle\n",
    "\n",
    "with open(\"./pickled_mnist.pkl\", \"br\") as fh:\n",
    "    data = pickle.load(fh)\n",
    "\n",
    "train_images = data[0]\n",
    "test_images = data[1]\n",
    "train_labels = data[2]\n",
    "test_labels = data[3]\n",
    "\n",
    "class_names = ['small', 'medium', 'large']\n",
    "\n",
    "'''\n",
    "print(train_images.shape) #(1619, 172800)\n",
    "print(test_images.shape) #(460, 172800)\n",
    "print(train_labels.shape) #(1619, 3)\n",
    "print(test_labels.shape) #(460, 3)\n",
    "'''\n",
    "train_images=train_images.reshape(1619, 240, 240, 3)\n",
    "test_images=test_images.reshape(460, 240, 240, 3)\n",
    "\n",
    "#모델 구성\n",
    "model = keras.Sequential([\n",
    "    keras.layers.Flatten(input_shape=(240, 240, 3)),\n",
    "    keras.layers.Dense(1619, activation='relu'),\n",
    "    keras.layers.Dense(10, activation='softmax')\n",
    "])\n",
    "model.compile(optimizer='adam',\n",
    "              loss='sparse_categorical_crossentropy',\n",
    "              metrics=['accuracy'])\n",
    "print(model.summary())\n",
    "\n",
    "#모델 훈련\n",
    "model.fit(train_images, train_labels, epochs=5, batch_size=100)\n",
    "\n",
    "#정확도 평가\n",
    "test_loss, test_acc = model.evaluate(test_images,  test_labels, verbose=2)\n",
    "print('\\n테스트 정확도:', test_acc)\n",
    "\n",
    "\n",
    "\n",
    "'''\n",
    "#테스트 완료 후 prediction code\n",
    "predictions = model.predict(test_images)\n",
    "predictions[0]\n",
    "np.argmax(predictions[0])\n",
    "test_labels[0]\n",
    "'''\n"
   ]
  },
  {
   "cell_type": "code",
   "execution_count": null,
   "metadata": {},
   "outputs": [],
   "source": []
  }
 ],
 "metadata": {
  "kernelspec": {
   "display_name": "Python 3",
   "language": "python",
   "name": "python3"
  },
  "language_info": {
   "codemirror_mode": {
    "name": "ipython",
    "version": 3
   },
   "file_extension": ".py",
   "mimetype": "text/x-python",
   "name": "python",
   "nbconvert_exporter": "python",
   "pygments_lexer": "ipython3",
   "version": "3.6.6"
  }
 },
 "nbformat": 4,
 "nbformat_minor": 4
}
